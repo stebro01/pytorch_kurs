{
 "cells": [
  {
   "cell_type": "code",
   "execution_count": 1,
   "id": "7dcf5027",
   "metadata": {},
   "outputs": [],
   "source": [
    "import torch"
   ]
  },
  {
   "cell_type": "code",
   "execution_count": 2,
   "id": "abf6271e",
   "metadata": {},
   "outputs": [],
   "source": [
    "v = torch.tensor([1,2,3,4,5])"
   ]
  },
  {
   "cell_type": "code",
   "execution_count": 3,
   "id": "5beb6eb0",
   "metadata": {},
   "outputs": [
    {
     "name": "stdout",
     "output_type": "stream",
     "text": [
      "tensor([1, 2, 3, 4, 5]) torch.int64 <built-in method size of Tensor object at 0x7f8decf40db0>\n"
     ]
    }
   ],
   "source": [
    "print(v, v.dtype, v.size)"
   ]
  },
  {
   "cell_type": "code",
   "execution_count": null,
   "id": "df767f35",
   "metadata": {},
   "outputs": [],
   "source": []
  }
 ],
 "metadata": {
  "kernelspec": {
   "display_name": "Python 3 (ipykernel)",
   "language": "python",
   "name": "python3"
  },
  "language_info": {
   "codemirror_mode": {
    "name": "ipython",
    "version": 3
   },
   "file_extension": ".py",
   "mimetype": "text/x-python",
   "name": "python",
   "nbconvert_exporter": "python",
   "pygments_lexer": "ipython3",
   "version": "3.9.7"
  }
 },
 "nbformat": 4,
 "nbformat_minor": 5
}
